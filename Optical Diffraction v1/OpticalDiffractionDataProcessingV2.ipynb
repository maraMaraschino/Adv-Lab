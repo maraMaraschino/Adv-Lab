{
 "cells": [
  {
   "cell_type": "markdown",
   "id": "f59772df",
   "metadata": {},
   "source": [
    "# Data Analysis for the Single Slit Diffraction Experiment\n",
    "1. **Import Data:** Save data taken from the Raspberry Pi to the folder named \"Files\", make sure and copy the filename including the .csv at the end. In the cell below paste the file name after the 'Files/' in the line that begins with \"array = \""
   ]
  },
  {
   "cell_type": "code",
   "execution_count": null,
   "id": "5800d2a5",
   "metadata": {},
   "outputs": [],
   "source": [
    "import numpy as np\n",
    "import matplotlib.pyplot as plt\n",
    "import pandas as pd\n",
    "import datetime\n",
    "\n",
    "#imports values from file into a numpy array\n",
    "goop = np.genfromtxt ('Files/EDPH2024-10-11_12268.csv', delimiter=\",\")"
   ]
  },
  {
   "cell_type": "markdown",
   "id": "7ad8f3b8",
   "metadata": {},
   "source": [
    "2. **Select the Data:** In the cell below you will select the horizontal row of pixels you want to read the values of. \n",
    "    - First change the initials to yours to help you find the data that is saved\n",
    "    - Run the cell, and in the text box that shows up input an inital guess of what numbered row you would like to take data of. You will get to change this row before you save data. 1500 is a good inital guess.\n",
    "    - Next use the axes marked to refine your guesses until the red line covers the part of the picture you would like to take data of.\n",
    "    - Enter save into the input box when you have the line where you want it. \n",
    "    - Enter break into the input box to leave the loop."
   ]
  },
  {
   "cell_type": "code",
   "execution_count": null,
   "id": "4a1699cf",
   "metadata": {},
   "outputs": [],
   "source": [
    "MYINITIALS = 'AFKWGA'\n",
    "\n",
    "#Here is the filename construction based upon date and time.\n",
    "ddtt = datetime.datetime.now()\n",
    "nameformat=\"%Y%m%d_%H%M%S\"\n",
    "myrootfilename = 'Data/' + MYINITIALS + ddtt.strftime(nameformat)\n",
    "csvname1 = myrootfilename+'firstrun.csv'\n",
    "csvname2 = myrootfilename+'average.csv'\n",
    "imagename = myrootfilename+'ImageWithLine.jpg'\n",
    "\n",
    "# This detects the rows between data runs, they should be the only rows marked with a negative number\n",
    "a,b = goop.shape\n",
    "ind = []\n",
    "i = 0 \n",
    "while i<a:\n",
    "    x = goop[i,0]\n",
    "    if x < 0:\n",
    "        ind.append(i)\n",
    "    i += 1\n",
    "\n",
    "#This splits up the big data array and saves it into a dictionary by the indexes found in the last step\n",
    "lastx = 0\n",
    "i1 = 0\n",
    "names = {}\n",
    "\n",
    "for x in ind:\n",
    "    names[\"array\"+str(i1)] = goop[lastx:x,:]\n",
    "    lastx = x + 1\n",
    "    i1+=1\n",
    "\n",
    "#finds the width of the array of pixels, and sets the line we graph to the full width\n",
    "total = names['array0']\n",
    "\n",
    "a1,b1 = total.shape\n",
    "nums = np.array([1,b1])\n",
    "\n",
    "print(\"to exit, input: break\") #prints the exit instructions\n",
    "print(\"to save data, input: save\") #prints the save instructions\n",
    "\n",
    "while(True): #loop until break is entered\n",
    "    \n",
    "    #input that asks for the y value you would like to graph the line at\n",
    "    value = input(\"enter y-axis value, positive whole numbers only:\")\n",
    "    \n",
    "    #checks to see if break was entered, then stops the loop\n",
    "    if(value==\"break\"):\n",
    "        print(\"Program Stopping...\")\n",
    "        break\n",
    "        \n",
    "    #checks to see if the input is a positive number, then graphs a line at that y value\n",
    "    elif(value.isdigit()):\n",
    "        intvalue = float(value) #saves the value as a float\n",
    "        ynums = np.array([intvalue,intvalue]) #creates an array to graph\n",
    "        plt.figure()\n",
    "        plt.imshow(total,cmap='Greens') #this line graphs the picture to the plt figure\n",
    "        plt.plot(nums,ynums,color=\"firebrick\") #graphs the line at the input y-value\n",
    "        plt.show()\n",
    "        \n",
    "    elif(value==\"save\"):\n",
    "        grn3 = pd.DataFrame(total) #converts the data to a pandas array for easier saving, then saves and graphs it\n",
    "        grn3.to_csv(csvname1,index=False)\n",
    "        plt.figure()\n",
    "        plt.imshow(total,cmap='Greens') #this line graphs the picture to the plt figure\n",
    "        plt.plot(nums,ynums,color=\"firebrick\")        \n",
    "        plt.savefig(imagename)\n",
    "\n",
    "    #prints an \"error\" message\n",
    "    else:\n",
    "        print(\"entered value not a positive number\")"
   ]
  },
  {
   "cell_type": "markdown",
   "id": "5a790a62",
   "metadata": {},
   "source": [
    "3. **Graph your Data:** The data you selected is now saved to the Data folder. The file names were given to you as outputs as well. The next cell take the average of all your data runs at the line specified above, and filters out all but the green data. It will then graph the average you made. Simply run it and note the file name, that file is also saved to the Data folder."
   ]
  },
  {
   "cell_type": "code",
   "execution_count": 23,
   "id": "d00434f6-1370-4d42-b571-2458e9fda6eb",
   "metadata": {},
   "outputs": [
    {
     "name": "stdout",
     "output_type": "stream",
     "text": [
      "Pixel Row:  1100\n",
      "0       274.5\n",
      "1       274.4\n",
      "2       275.8\n",
      "3       281.2\n",
      "4       282.0\n",
      "        ...  \n",
      "2027    274.0\n",
      "2028      0.0\n",
      "2029      0.0\n",
      "2030      0.0\n",
      "2031      0.0\n",
      "Name: Average, Length: 2032, dtype: float64\n"
     ]
    },
    {
     "data": {
      "image/png": "[encoded data removed]",
      "text/plain": [
       "<Figure size 640x480 with 1 Axes>"
      ]
     },
     "metadata": {},
     "output_type": "display_data"
    },
    {
     "name": "stdout",
     "output_type": "stream",
     "text": [
      "Data Saved As:  Data/AFKWGA20241011_124753average.csv\n"
     ]
    }
   ],
   "source": [
    "intvalue=int(intvalue) #converts the input value to an int\n",
    "\n",
    "print(\"Pixel Row: \",intvalue) #outputs the value that was input\n",
    "\n",
    "data = np.array(total[intvalue][:]) #collects the row of data points at the input y-value\n",
    "\n",
    "#this step filters out the non green data. Even and odd rows of pixels act differently\n",
    "if intvalue % 2 == 0:\n",
    "    #its even\n",
    "    gdata = data[1::2]\n",
    "else:\n",
    "    gdata = data[::2]\n",
    "\n",
    "#this creates a Pandas Data Frame to hold all of the run's data\n",
    "gpand = pd.DataFrame(gdata)\n",
    "\n",
    "#this loop collects the data along the pixel selected from all runs and saves it to gpand\n",
    "i=1\n",
    "while i < len(names):\n",
    "    arr = names['array'+str(i)]\n",
    "    arr1 = np.array(arr[intvalue][:])\n",
    "    if intvalue % 2 == 0:\n",
    "        #its even\n",
    "        gpand[str(i)] = arr1[1::2]\n",
    "    else:\n",
    "        gpand[str(i)] = arr1[::2]\n",
    "    i+=1\n",
    "\n",
    "#this calculates the average of all the data runs\n",
    "avegpand = gpand.copy()\n",
    "avegpand['Average'] = avegpand.mean(numeric_only=True, axis=1)\n",
    "average = avegpand['Average']\n",
    "print(average)\n",
    "\n",
    "#this plots the average\n",
    "plt.figure()\n",
    "plt.plot(average)\n",
    "plt.yscale('log')\n",
    "plt.show()\n",
    "\n",
    "#this saves your average data as a .csv\n",
    "curve = pd.DataFrame(average)\n",
    "curve.to_csv(csvname2,index=False)\n",
    "print(\"Data Saved As: \",csvname2)"
   ]
  },
  {
   "cell_type": "code",
   "execution_count": 6,
   "id": "4e358739-bbae-4233-a185-68d715b5f50a",
   "metadata": {},
   "outputs": [
    {
     "name": "stdout",
     "output_type": "stream",
     "text": [
      "2\n"
     ]
    }
   ],
   "source": [
    "print(len(names))"
   ]
  }
 ],
 "metadata": {
  "kernelspec": {
   "display_name": "Python 3 (ipykernel)",
   "language": "python",
   "name": "python3"
  },
  "language_info": {
   "codemirror_mode": {
    "name": "ipython",
    "version": 3
   },
   "file_extension": ".py",
   "mimetype": "text/x-python",
   "name": "python",
   "nbconvert_exporter": "python",
   "pygments_lexer": "ipython3",
   "version": "3.11.9"
  }
 },
 "nbformat": 4,
 "nbformat_minor": 5
}
