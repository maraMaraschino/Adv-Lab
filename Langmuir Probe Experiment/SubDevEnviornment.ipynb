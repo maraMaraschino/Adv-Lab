{
 "cells": [
  {
   "cell_type": "markdown",
   "metadata": {},
   "source": [
    "Garrett Arquette Notebook Env "
   ]
  },
  {
   "cell_type": "code",
   "execution_count": null,
   "metadata": {},
   "outputs": [],
   "source": [
    "import pandas as pd\n",
    "import matplotlib.pyplot as plt\n",
    "import numpy as np\n",
    "import pathlib\n",
    "import pprint\n",
    "\n",
    "plasma_data1 = pd.read_csv('data/langmuirprobe1.csv')\n",
    "plasma_data2 = pd.read_csv('data/langmuirprobe2.csv')\n",
    "# 3rd data file doesn't include the plateau\n",
    "#plasma_data3 = pd.read_csv('data/langmuirprobe3.csv')\n",
    "x1 = plasma_data1.iloc[:,0]\n",
    "y1 = plasma_data1.iloc[:,1] * 10e3\n",
    "\n",
    "x2 = plasma_data2.iloc[:,0]\n",
    "y2 = plasma_data2.iloc[:,1] * 10e3\n",
    "\n",
    "x_avg = x1 + x2 / len(x1)\n",
    "x_avg = np.array(x_avg, dtype=np.float64)\n",
    "y_avg = y1 + y2 / len(y1)\n",
    "y_avg = np.array(y_avg, dtype=np.float64)\n",
    "\n",
    "plt.scatter(x1, y1, s=1, c='red')\n",
    "plt.scatter(x2, y2, s=1, c='blue')\n",
    "plt.plot(x_avg, y_avg, c='purple')\n",
    "plt.xlabel('Voltage')\n",
    "plt.ylabel('Current (mA)')\n",
    "plt.title('Langmuir Data (387-382 mTorr)')\n",
    "plt.savefig('Langmuir Data.png')\n",
    "plt.grid(True)\n",
    "plt.show()"
   ]
  },
  {
   "cell_type": "code",
   "execution_count": null,
   "metadata": {},
   "outputs": [],
   "source": [
    "from scipy.stats import linregress, norm\n",
    "from scipy.optimize import curve_fit\n",
    "\n",
    "exponential_region_x = x_avg[13:114]\n",
    "exponential_region_y = y_avg[13:114]\n",
    "\n",
    "linear_region_y = np.log(exponential_region_y)\n",
    "\n",
    "linearfunc1 = linregress(exponential_region_x[0:25], linear_region_y[0:25])\n",
    "\n",
    "linearFit_y_first_Region = linearfunc1[0] * exponential_region_x[0:25] + linearfunc1[1]\n",
    "\n",
    "linearfunc2 = linregress(exponential_region_x[25:-1], linear_region_y[25:-1])\n",
    "\n",
    "linearFit_y_second_Region = linearfunc2[0] * exponential_region_x[25:-1] + linearfunc2[1]\n",
    "\n",
    "print(\"Slope of the first region is:\", linearfunc1[0])\n",
    "print(\"Slope of the second region is:\", linearfunc2[0])\n",
    "\n",
    "\n",
    "plt.plot(exponential_region_x[0:25], linearFit_y_first_Region)\n",
    "plt.plot(exponential_region_x[25:-1], linearFit_y_second_Region)\n",
    "plt.plot(exponential_region_x, linear_region_y)\n",
    "plt.title('Exponential Region linearized')\n",
    "plt.xlabel('Voltage')\n",
    "plt.ylabel('Current (mA)')\n",
    "#plt.yscale('log')\n",
    "plt.savefig(\"Slope_Exp_Region.png\")\n",
    "plt.show()"
   ]
  }
 ],
 "metadata": {
  "kernelspec": {
   "display_name": "Python 3",
   "language": "python",
   "name": "python3"
  },
  "language_info": {
   "name": "python",
   "version": "3.10.11"
  }
 },
 "nbformat": 4,
 "nbformat_minor": 2
}
