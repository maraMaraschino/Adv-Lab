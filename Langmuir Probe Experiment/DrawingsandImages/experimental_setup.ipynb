{
 "cells": [
  {
   "cell_type": "markdown",
   "metadata": {},
   "source": [
    "![alt text](logo.png \"Logo\")\n",
    "\n",
    "<center> <h1> Advanced Physics Lab 3711/3721 </h1> </center>\n",
    "<center> <h1> Plasma Physics - Langmuir Probe </h1> </center>\n",
    "<center> <h3> 23 August 2017 </h3> </center>"
   ]
  },
  {
   "cell_type": "markdown",
   "metadata": {},
   "source": [
    "## Introduction\n",
    "\n",
    "This particular notebook is written to guide you through the experiemental setup and to communicate with the Keithley 6487 Picoammeter/Voltage Source that is connected to the JL03 PC in North Classroom 3606 (the code cells are written in Python). **Be sure to thoroughly read the entire notebook.**"
   ]
  },
  {
   "cell_type": "markdown",
   "metadata": {},
   "source": [
    "## Safety\n",
    "\n",
    "We will learn how to create a plasma by applying a DC voltage between two electrodes in a partial vacuum. This methodology is similar to the physics behind fluorescent light tubes and neon signs. **DANGEROUS VOLTAGES** may be present while conducting this experiment. Do not operate any equipment until you are confident that you can do so safely. Please use caution and be aware of what you are touching. **Familiarize yourself with the equipment before turning anything on.**\n",
    "\n",
    "A helpful (and perhaps life-saving) guideline when using equipment is to utilize a *one-hand-only* technique, and focus your attention on one operation at a time. Additionally, keeping your other hand (if it exists) in you pocket should mitigate any risk of current flowing across your chest."
   ]
  },
  {
   "cell_type": "markdown",
   "metadata": {},
   "source": [
    "## Experimental Setup \n",
    "\n",
    "Below is a digital photograph of the current experimental setup. We have added an Ammeter inline with the grounded side of the High Voltage Power Supply to monitor the DC discharge current, and it is not represented in ** *Figure 1* **. If what you find in the lab looks different from the image below (other than the Ammeter), please find an instructor or the lab manager before proceding.\n",
    "\n",
    "![Experimental Setup](overview.png \"Experimental Setup\")\n",
    "*<b>Figure 1:</b>This is an image of the experimental setup.*"
   ]
  },
  {
   "cell_type": "markdown",
   "metadata": {},
   "source": [
    "### Setting the Pressure\n",
    "\n",
    "We need to first get the pressure in the system down to an appropriate level such that a DC discharge can be generated between the two electrodes in the tube. There are a few things to do/check before turning on the vacuum pump. They are as follows:\n",
    "\n",
    "+ Make sure the blue Kurt J. Lesker pressure gauge is plugged in. The plug is to the back-left of the experiment enclosure\n",
    "+ Check the pressure reading - it should be around atmospheric pressure (verify the measurement given Denver's elevation!).\n",
    "    + If the pressure is lower than expected, open all four needle valves (turning them counter clockwise until a slight resistance is felt) .\n",
    "+ After verifying the pressure reading does indeed match the expected value, close all four needle valves by turning them clockwise until a slight resistance is felt. **DO NOT FORCE THE VALVES CLOSED! THE VALVE SEATS CAN BE DAMAGED IF TURNED TOO FORCEFULLY.**\n",
    "+ There are two on/off ball valves. **Both must be closed before turning the vacuum pump on OR off.**\n",
    "    + The valves are closed when the lever is positioned perpendicular to the tubing - see ** *Figure 2* **.\n",
    "+ After verifying that the valves are closed, you may turn the vacuum pump on.\n",
    "+ Slowly open the ball valve on the vacuum pump. Then (**very slowly**) open the ball valve on the back left of the experiment enclosure.\n",
    "+ You should notice the pressure reading start to drop. The pressure range of interest is 150-700 mTorr.\n",
    "\n",
    "![Ball Valves Off](ball_valves_off.png \"Ball Valves Off\")\n",
    "*<b>Figure 2:</b>This image shows the orientation of the ball valves while in their off position. The left pane is the valve on the vacuum pump, and the right pane is the valve on the back left of the experiment enclosure.*\n",
    "\n",
    "We want to approach a stable pressure. The range of interest is 250-600 mTorr. To adjust the pressure, we need to open the various needle valves on the front left of the experiment enclosure. The left most valve is a \"coarse\" valve. The valve to the right of the \"coarse\" valve is \"medium\", and the two right most are \"fine\" valves. See ** *Figure 3* ** for a picture of the needle valves.\n",
    "\n",
    "![Needle Valves](needle_valves.png \"Needle Valves\")\n",
    "*<b>Figure 3:</b>This is a picture of the needle vavles used to adjust the pressure in the system. The left most valve is a \"coarse\" valve. The valve to the right of the \"coarse\" valve is \"medium\", and the two right most are \"fine\" valves.*"
   ]
  },
  {
   "cell_type": "markdown",
   "metadata": {},
   "source": [
    "### Creating a DC Discharge \n",
    "\n",
    "After we have a stable pressure within the range of 250-600 mTorr, it's time to create a DC discharge between the two electrodes. **Before turning on the High Voltage power supply, verify that the patch cables are connected to the correct ports (note that the patch cables should all be using a high voltage wire - they have a white silicone insulation over the wire). Additionally, make sure that the polarity is set to NEGATIVE! This switch is directly above the patch cables.** See ** *Figures 4, 5, and 6* **.\n",
    "\n",
    "![High Voltage Power Supply Polarity](polarity.png \"High Voltage Power Supply Polarity\")\n",
    "*<b>Figure 4:</b>This image shows the CORRECT setting for the high voltage power supply polarity. Given this, we are setting the Annode potential to ground, and the Cathode at a large negative potential (relative to ground).*\n",
    "\n",
    "![High Voltage Power Supply Wiring](wiring.png \"High Voltage Power Supply Wiring\")\n",
    "*<b>Figure 5:</b>This image shows the propper wiring configuration for the High Voltage Power Supply. **Be sure to verify this and that you understand what's going on in the circuit.** **Figure 6** might help.*\n",
    "\n",
    "![Circuit Schematic](schematic.png \"Circuit Schematic\")\n",
    "*<b>Figure 6:</b>This is a schematic of the circuit. The line drawn into the vacuum tube represents the Langmuir Probe*\n",
    "\n",
    "One more check before turning on the high voltage source. Make sure all the OUTPUT VOLTAGE knobs are set to 0 and the HIGH VOLTAGE switch is turned off (to the left). After following the steps, and verifying that everything is connected, we can turn the POWER switch on (to the right). Upon turning the switch on, the ON light should illuminate. After about 10 seconds, you should hear an interal click followed by the STD BY RESET light turning on. The high voltage source is now ready to use.\n",
    "\n",
    "**Be aware that you do not place any body parts (hands, arms, etc) or other objects near the connectors of the patch cables while the High Voltage Power Supply is turned on. The connectors are only rated for HANDS FREE OPERATION above 60 Volts DC.**\n",
    "\n",
    "We also want to monitor the total current of the DC discharge. The Fluke multimeter is connected to measure this. Turn on the multimeter and set it to measure DC current (the scale is mA).\n",
    "\n",
    "Once we are ready, turn the HIGH VOLTAGE switch on (to the right). Then start increasing the OUTPUT VOLTAGE knobs (starting with the 0-1500 knob). The \"sparking potential\", or minimum voltage difference required to initiate a DC Discharge, varies as a function of pressure (and, in fact, electrode separation). You should expect to see a discharge around 1000-1500 Volts. ** Be sure to monitor the dicsharge current as well. DO NOT EXCEED 8mA. ** See ** *Figure 7* ** for a preview of what to expect.\n",
    "\n",
    "![PLASMA!](plasma.png \"PLASMA!\")\n",
    "*<b>Figure 7:</b>This image shows a DC Discharge between the two electrodes in the vacuum tube. The Annode is on the right, and the Cathode is on the left.*\n",
    "\n",
    "Once a stable DC Discharge has been created, we are ready to investigate the plasma!"
   ]
  },
  {
   "cell_type": "markdown",
   "metadata": {},
   "source": [
    "## Acquiring the Langmuir Probe Current-Voltage (I-V) Characteristic\n",
    "\n",
    "\n",
    "Now we want to sweep the potential of the Langmuir probe relative to both the floating potential and the plasma potential in the region of the probe. The first thing we need to do (apart from turning the Keithley on - do this now if it is powered off) is import some Python libraries to communicate with the Keithley 6487 Picoammeter/Voltage Source, and to manipulate and display the acquired data. Execute the cell below by clicking on the cell and pressing \"Shift+Enter\" (alternatively you could click on the cell and then click the play button on the top banner). <i><b>Note:</b> On the left of each \"code\" cell, you will see \"In [ ]:\". After you execute a cell, this will change to \"In [ # ]:\", where # will be an integer that represents the order you executed the cells in a particular session (beginning with 1 and monotonically inscreasing). While the cell is running, you should see an asterisk within the brackets of \"In [ ]:\" on the left of the cell. The asterisk will change to an integer when complete.</i>"
   ]
  },
  {
   "cell_type": "code",
   "execution_count": 1,
   "metadata": {},
   "outputs": [],
   "source": [
    "# DO NOT EDIT THIS CELL\n",
    "\n",
    "import numpy as np # This is the fundamental package for scientific computing with Python.\n",
    "import visa # This is the pyVISA library - it allows us to communicate with instruments (like the Keithley 6487!).\n",
    "import time # This library allows us to keep track of time\n",
    "from bokeh.plotting import figure, output_notebook, show, vplot # This is a plotting library"
   ]
  },
  {
   "cell_type": "markdown",
   "metadata": {},
   "source": [
    "Now we will open communication with the Keithley and send it some initialization commands. It is located at the \"COM1\" port. We need to also define how the device is configured in the RS-232 communications protocol. In general, for RS-232 communications, you need to specify:\n",
    "\n",
    "+ Baud Rate\n",
    "+ Flow Control\n",
    "+ Terminator Characters\n",
    "+ Parity\n",
    "+ Data Bits\n",
    "\n",
    "For our case the Keithley is set to all the default parameters, except the Terminator. The settings for the the Keithley are: \n",
    "\n",
    "+ Baud Rate: 9600\n",
    "+ Flow Control: None\n",
    "+ Terminator Characters: Carriage Return\n",
    "+ Parity: None\n",
    "+ Data Bits: 8\n",
    "\n",
    "Now, run the cell below."
   ]
  },
  {
   "cell_type": "code",
   "execution_count": 2,
   "metadata": {},
   "outputs": [
    {
     "data": {
      "text/plain": [
       "(13, <StatusCode.success: 0>)"
      ]
     },
     "execution_count": 2,
     "metadata": {},
     "output_type": "execute_result"
    }
   ],
   "source": [
    "# DO NOT EDIT THIS CELL\n",
    "\n",
    "# Setting up a resource manager to communicate with the Keithley, using the imported pyVISA library.\n",
    "resource_manager = visa.ResourceManager() \n",
    "\n",
    "# Opening the instrument - note we specify the read and write termination\n",
    "keithley = resource_manager.open_resource(\"COM1\", read_termination = '\\r', write_termination = '\\r') \n",
    "\n",
    "keithley.write('*RST') # Return 6487 to defaults.\n",
    "keithley.write('FORM:ELEM READ,VSO') # Setting up Keithley to send the Current and Voltage.\n",
    "keithley.write('RANG:AUTO ON') # Enable auto current range.\n",
    "keithley.write('SOUR:VOLT:RANG 500') # Select 500V source range.\n",
    "keithley.write('SOUR:VOLT 0') # Set voltage source output to 0V.\n",
    "keithley.write('SOUR:VOLT:ILIM 2e-3') # Set current limit to 2mA.\n",
    "keithley.write('SYST:ZCH OFF') # Disable zero check."
   ]
  },
  {
   "cell_type": "markdown",
   "metadata": {},
   "source": [
    "The cell below will define a function that we will use later. This function will tell the Keithley to sweep through a set of voltages that we will set in a moment, and then store the measured current for each voltage step."
   ]
  },
  {
   "cell_type": "code",
   "execution_count": 3,
   "metadata": {
    "scrolled": false
   },
   "outputs": [],
   "source": [
    "# DO NOT EDIT THIS CELL\n",
    "\n",
    "def vsweep(v_low, v_high, v_step, v_float):\n",
    "\n",
    "    N_steps = abs(v_high - v_low)/v_step # Number of steps\n",
    "    vs = np.arange(v_low, v_high + v_step, v_step) # generate an array of Voltage values\n",
    "    t_delay = .2 # Time (in seconds) to pause while reading/writing to the Keithley\n",
    "    \n",
    "    keithley.write('SOUR:VOLT:STAT ON') # Put voltage source in operate.\n",
    "    keithley.write('SOUR:VOLT ' + str(v_low)) # Set the voltage source to the lowest setting\n",
    "\n",
    "    fdata = np.zeros(shape=(N_steps + 1, 2)) # Create empty array the length of our data set that we will fill with data below\n",
    "\n",
    "    time.sleep(t_delay) # Wait for the time that we specified\n",
    "    \n",
    "    # Looping through the voltages we defined\n",
    "    for i,v in enumerate(vs):\n",
    "            keithley.write('SOUR:VOLT ' + str(v)) # Telling the Keithley a voltage to set\n",
    "            time.sleep(t_delay) # Wait for the time that we specified\n",
    "            a = keithley.ask('READ?') # Reading the Current and Voltage and storing it\n",
    "            time.sleep(t_delay) # Wait for the time that we specified\n",
    "            b = a.split(\",\") # Parsing the data sent from the Keithley - it sends us a 'string'\n",
    "            fdata[i] = [float(b[1]),float(b[0])] # Storing data into the ith row and converting the 'string' to a 'float'\n",
    "                               \n",
    "    keithley.write('SOUR:VOLT ' + str(v_float)) # Setting the Keithley to the floating potential that we passed to 'vsweep' \n",
    "    \n",
    "    return fdata # Return the collected data "
   ]
  },
  {
   "cell_type": "markdown",
   "metadata": {},
   "source": [
    "Next, we define our scanning limits and other variables. Some notes about these parameters:\n",
    "\n",
    "+ v_low - This is the starting voltage. The default starting point is -200V. **DO NOT EXCEED -450V.**\n",
    "+ v_high - This is the ending voltage. The default ending point is -150V. **DO NOT EXCEED -50V.**\n",
    "+ v_step - This is the voltage step. 5 V is a good starting point.\n",
    "+ v_float - This should be near the probe floating potential. The default is -200V."
   ]
  },
  {
   "cell_type": "code",
   "execution_count": 24,
   "metadata": {},
   "outputs": [],
   "source": [
    "# Modify the parameters below to suit your desired scan. If you change the parameters for future scans, you need to \n",
    "# execute the cell again to set the new values.\n",
    "\n",
    "vlow = -200 # Lowest voltage\n",
    "vhigh = -150  # Highest voltage\n",
    "vstep = 5 # Voltage Step\n",
    "vfloat = -200 # This is near the measured floating potential of the Langmuir Probe"
   ]
  },
  {
   "cell_type": "markdown",
   "metadata": {},
   "source": [
    "Alright. Now we should have the Keithley in a state where we can sweep the Langmuir Probe potential. The function 'vsweep' sets the Voltage Source on the Keithley to the floating potential *v_float* that we defined a few cells up after sweeping through the voltages that we specify - this is to minimize any current through the probe when not needed. Let's go!"
   ]
  },
  {
   "cell_type": "code",
   "execution_count": 21,
   "metadata": {},
   "outputs": [
    {
     "name": "stderr",
     "output_type": "stream",
     "text": [
      "C:\\ProgramData\\Anaconda3\\lib\\site-packages\\ipykernel\\__main__.py:12: VisibleDeprecationWarning: using a non-integer number instead of an integer will result in an error in the future\n"
     ]
    }
   ],
   "source": [
    "#This first if statement will delete the previous data if it exists. So, if you want to keep your data, save it in a cell below!\n",
    "\n",
    "if 'data' in locals(): \n",
    "    del data\n",
    "    \n",
    "data = vsweep(vlow, vhigh, vstep, vfloat) # This calls the function 'vsweep' that we defined a few cells up"
   ]
  },
  {
   "cell_type": "markdown",
   "metadata": {},
   "source": [
    "When you are completely finished with your data collection, please close out the data acquisition session by executing the cell below. <b>You may not wish to do this the first time you arrive to this point in the Notebook.</b> Move on to the next section before determining if you are finished."
   ]
  },
  {
   "cell_type": "code",
   "execution_count": 25,
   "metadata": {
    "collapsed": true
   },
   "outputs": [],
   "source": [
    "# DO NOT EDIT THIS CELL\n",
    "\n",
    "keithley.write('SOUR:VOLT:STAT OFF') # This turns off the Voltage Source (and blue light) on the Keithley\n",
    "keithley.close()"
   ]
  },
  {
   "cell_type": "markdown",
   "metadata": {},
   "source": [
    "## Plotting the Langmuir Probe Current-Voltage (I-V) Characteristic\n",
    "\n",
    "Now that we have acquired the data, let's have a look at the result! The cell below will create an interactive plot of the IV curve."
   ]
  },
  {
   "cell_type": "code",
   "execution_count": 22,
   "metadata": {
    "scrolled": false
   },
   "outputs": [
    {
     "data": {
      "text/html": []
     },
     "metadata": {},
     "output_type": "display_data"
    },
    {
     "data": {
      "application/javascript": [
       "\n",
       "(function(global) {\n",
       "  function now() {\n",
       "    return new Date();\n",
       "  }\n",
       "\n",
       "  var force = true;\n",
       "\n",
       "  if (typeof (window._bokeh_onload_callbacks) === \"undefined\" || force === true) {\n",
       "    window._bokeh_onload_callbacks = [];\n",
       "    window._bokeh_is_loading = undefined;\n",
       "  }\n",
       "\n",
       "\n",
       "  \n",
       "  if (typeof (window._bokeh_timeout) === \"undefined\" || force === true) {\n",
       "    window._bokeh_timeout = Date.now() + 5000;\n",
       "    window._bokeh_failed_load = false;\n",
       "  }\n",
       "\n",
       "  var NB_LOAD_WARNING = {'data': {'text/html':\n",
       "     \"<div style='background-color: #fdd'>\\n\"+\n",
       "     \"<p>\\n\"+\n",
       "     \"BokehJS does not appear to have successfully loaded. If loading BokehJS from CDN, this \\n\"+\n",
       "     \"may be due to a slow or bad network connection. Possible fixes:\\n\"+\n",
       "     \"</p>\\n\"+\n",
       "     \"<ul>\\n\"+\n",
       "     \"<li>re-rerun `output_notebook()` to attempt to load from CDN again, or</li>\\n\"+\n",
       "     \"<li>use INLINE resources instead, as so:</li>\\n\"+\n",
       "     \"</ul>\\n\"+\n",
       "     \"<code>\\n\"+\n",
       "     \"from bokeh.resources import INLINE\\n\"+\n",
       "     \"output_notebook(resources=INLINE)\\n\"+\n",
       "     \"</code>\\n\"+\n",
       "     \"</div>\"}};\n",
       "\n",
       "  function display_loaded() {\n",
       "    if (window.Bokeh !== undefined) {\n",
       "      document.getElementById(\"\").textContent = \"BokehJS successfully loaded.\";\n",
       "    } else if (Date.now() < window._bokeh_timeout) {\n",
       "      setTimeout(display_loaded, 100)\n",
       "    }\n",
       "  }\n",
       "\n",
       "  function run_callbacks() {\n",
       "    window._bokeh_onload_callbacks.forEach(function(callback) { callback() });\n",
       "    delete window._bokeh_onload_callbacks\n",
       "    console.info(\"Bokeh: all callbacks have finished\");\n",
       "  }\n",
       "\n",
       "  function load_libs(js_urls, callback) {\n",
       "    window._bokeh_onload_callbacks.push(callback);\n",
       "    if (window._bokeh_is_loading > 0) {\n",
       "      console.log(\"Bokeh: BokehJS is being loaded, scheduling callback at\", now());\n",
       "      return null;\n",
       "    }\n",
       "    if (js_urls == null || js_urls.length === 0) {\n",
       "      run_callbacks();\n",
       "      return null;\n",
       "    }\n",
       "    console.log(\"Bokeh: BokehJS not loaded, scheduling load and callback at\", now());\n",
       "    window._bokeh_is_loading = js_urls.length;\n",
       "    for (var i = 0; i < js_urls.length; i++) {\n",
       "      var url = js_urls[i];\n",
       "      var s = document.createElement('script');\n",
       "      s.src = url;\n",
       "      s.async = false;\n",
       "      s.onreadystatechange = s.onload = function() {\n",
       "        window._bokeh_is_loading--;\n",
       "        if (window._bokeh_is_loading === 0) {\n",
       "          console.log(\"Bokeh: all BokehJS libraries loaded\");\n",
       "          run_callbacks()\n",
       "        }\n",
       "      };\n",
       "      s.onerror = function() {\n",
       "        console.warn(\"failed to load library \" + url);\n",
       "      };\n",
       "      console.log(\"Bokeh: injecting script tag for BokehJS library: \", url);\n",
       "      document.getElementsByTagName(\"head\")[0].appendChild(s);\n",
       "    }\n",
       "  };\n",
       "\n",
       "  var js_urls = [\"https://cdn.pydata.org/bokeh/release/bokeh-0.12.4.min.js\", \"https://cdn.pydata.org/bokeh/release/bokeh-widgets-0.12.4.min.js\"];\n",
       "\n",
       "  var inline_js = [\n",
       "    function(Bokeh) {\n",
       "      Bokeh.set_log_level(\"info\");\n",
       "    },\n",
       "    function(Bokeh) {\n",
       "      console.log(\"Bokeh: injecting CSS: https://cdn.pydata.org/bokeh/release/bokeh-0.12.4.min.css\");\n",
       "      Bokeh.embed.inject_css(\"https://cdn.pydata.org/bokeh/release/bokeh-0.12.4.min.css\");\n",
       "      console.log(\"Bokeh: injecting CSS: https://cdn.pydata.org/bokeh/release/bokeh-widgets-0.12.4.min.css\");\n",
       "      Bokeh.embed.inject_css(\"https://cdn.pydata.org/bokeh/release/bokeh-widgets-0.12.4.min.css\");\n",
       "    }\n",
       "  ];\n",
       "\n",
       "  function run_inline_js() {\n",
       "    \n",
       "    if ((window.Bokeh !== undefined) || (force === true)) {\n",
       "      for (var i = 0; i < inline_js.length; i++) {\n",
       "        inline_js[i](window.Bokeh);\n",
       "      }} else if (Date.now() < window._bokeh_timeout) {\n",
       "      setTimeout(run_inline_js, 100);\n",
       "    } else if (!window._bokeh_failed_load) {\n",
       "      console.log(\"Bokeh: BokehJS failed to load within specified timeout.\");\n",
       "      window._bokeh_failed_load = true;\n",
       "    } else if (force !== true) {\n",
       "      var cell = $(document.getElementById(\"\")).parents('.cell').data().cell;\n",
       "      cell.output_area.append_execute_result(NB_LOAD_WARNING)\n",
       "    }\n",
       "\n",
       "  }\n",
       "\n",
       "  if (window._bokeh_is_loading === 0) {\n",
       "    console.log(\"Bokeh: BokehJS loaded, going straight to plotting\");\n",
       "    run_inline_js();\n",
       "  } else {\n",
       "    load_libs(js_urls, function() {\n",
       "      console.log(\"Bokeh: BokehJS plotting callback run at\", now());\n",
       "      run_inline_js();\n",
       "    });\n",
       "  }\n",
       "}(this));"
      ]
     },
     "metadata": {},
     "output_type": "display_data"
    },
    {
     "data": {
      "text/html": [
       "\n",
       "\n",
       "    <div class=\"bk-root\">\n",
       "        <div class=\"bk-plotdiv\" id=\"4c09bb0e-5071-4dfd-98a5-cd0fba716b05\"></div>\n",
       "    </div>\n",
       "<script type=\"text/javascript\">\n",
       "  \n",
       "  (function(global) {\n",
       "    function now() {\n",
       "      return new Date();\n",
       "    }\n",
       "  \n",
       "    var force = false;\n",
       "  \n",
       "    if (typeof (window._bokeh_onload_callbacks) === \"undefined\" || force === true) {\n",
       "      window._bokeh_onload_callbacks = [];\n",
       "      window._bokeh_is_loading = undefined;\n",
       "    }\n",
       "  \n",
       "  \n",
       "    \n",
       "    if (typeof (window._bokeh_timeout) === \"undefined\" || force === true) {\n",
       "      window._bokeh_timeout = Date.now() + 0;\n",
       "      window._bokeh_failed_load = false;\n",
       "    }\n",
       "  \n",
       "    var NB_LOAD_WARNING = {'data': {'text/html':\n",
       "       \"<div style='background-color: #fdd'>\\n\"+\n",
       "       \"<p>\\n\"+\n",
       "       \"BokehJS does not appear to have successfully loaded. If loading BokehJS from CDN, this \\n\"+\n",
       "       \"may be due to a slow or bad network connection. Possible fixes:\\n\"+\n",
       "       \"</p>\\n\"+\n",
       "       \"<ul>\\n\"+\n",
       "       \"<li>re-rerun `output_notebook()` to attempt to load from CDN again, or</li>\\n\"+\n",
       "       \"<li>use INLINE resources instead, as so:</li>\\n\"+\n",
       "       \"</ul>\\n\"+\n",
       "       \"<code>\\n\"+\n",
       "       \"from bokeh.resources import INLINE\\n\"+\n",
       "       \"output_notebook(resources=INLINE)\\n\"+\n",
       "       \"</code>\\n\"+\n",
       "       \"</div>\"}};\n",
       "  \n",
       "    function display_loaded() {\n",
       "      if (window.Bokeh !== undefined) {\n",
       "        document.getElementById(\"4c09bb0e-5071-4dfd-98a5-cd0fba716b05\").textContent = \"BokehJS successfully loaded.\";\n",
       "      } else if (Date.now() < window._bokeh_timeout) {\n",
       "        setTimeout(display_loaded, 100)\n",
       "      }\n",
       "    }\n",
       "  \n",
       "    function run_callbacks() {\n",
       "      window._bokeh_onload_callbacks.forEach(function(callback) { callback() });\n",
       "      delete window._bokeh_onload_callbacks\n",
       "      console.info(\"Bokeh: all callbacks have finished\");\n",
       "    }\n",
       "  \n",
       "    function load_libs(js_urls, callback) {\n",
       "      window._bokeh_onload_callbacks.push(callback);\n",
       "      if (window._bokeh_is_loading > 0) {\n",
       "        console.log(\"Bokeh: BokehJS is being loaded, scheduling callback at\", now());\n",
       "        return null;\n",
       "      }\n",
       "      if (js_urls == null || js_urls.length === 0) {\n",
       "        run_callbacks();\n",
       "        return null;\n",
       "      }\n",
       "      console.log(\"Bokeh: BokehJS not loaded, scheduling load and callback at\", now());\n",
       "      window._bokeh_is_loading = js_urls.length;\n",
       "      for (var i = 0; i < js_urls.length; i++) {\n",
       "        var url = js_urls[i];\n",
       "        var s = document.createElement('script');\n",
       "        s.src = url;\n",
       "        s.async = false;\n",
       "        s.onreadystatechange = s.onload = function() {\n",
       "          window._bokeh_is_loading--;\n",
       "          if (window._bokeh_is_loading === 0) {\n",
       "            console.log(\"Bokeh: all BokehJS libraries loaded\");\n",
       "            run_callbacks()\n",
       "          }\n",
       "        };\n",
       "        s.onerror = function() {\n",
       "          console.warn(\"failed to load library \" + url);\n",
       "        };\n",
       "        console.log(\"Bokeh: injecting script tag for BokehJS library: \", url);\n",
       "        document.getElementsByTagName(\"head\")[0].appendChild(s);\n",
       "      }\n",
       "    };var element = document.getElementById(\"4c09bb0e-5071-4dfd-98a5-cd0fba716b05\");\n",
       "    if (element == null) {\n",
       "      console.log(\"Bokeh: ERROR: autoload.js configured with elementid '4c09bb0e-5071-4dfd-98a5-cd0fba716b05' but no matching script tag was found. \")\n",
       "      return false;\n",
       "    }\n",
       "  \n",
       "    var js_urls = [];\n",
       "  \n",
       "    var inline_js = [\n",
       "      function(Bokeh) {\n",
       "        (function() {\n",
       "          var fn = function() {\n",
       "            var docs_json = {\"cd1f71ff-fb8b-4edb-be84-c8ec5c2f984a\":{\"roots\":{\"references\":[{\"attributes\":{\"plot\":{\"id\":\"9b7b9458-d618-48da-824a-c15e40080aa8\",\"subtype\":\"Figure\",\"type\":\"Plot\"}},\"id\":\"04481ab3-95b4-40dd-96f6-0b4b8fdc2190\",\"type\":\"HelpTool\"},{\"attributes\":{\"callback\":null,\"column_names\":[\"x\",\"y\"],\"data\":{\"x\":{\"__ndarray__\":\"AAAAAABAb8AAAAAAACBvwAAAAAAAAG/AAAAAAADgbsAAAAAAAMBuwAAAAAAAoG7AAAAAAACAbsAAAAAAAGBuwAAAAAAAQG7AAAAAAAAgbsAAAAAAAABuwAAAAAAA4G3AAAAAAADAbcAAAAAAAKBtwAAAAAAAgG3AAAAAAABgbcAAAAAAAEBtwAAAAAAAIG3AAAAAAAAAbcAAAAAAAOBswAAAAAAAwGzAAAAAAACgbMAAAAAAAIBswAAAAAAAYGzAAAAAAABAbMAAAAAAACBswAAAAAAAAGzAAAAAAADga8AAAAAAAMBrwAAAAAAAoGvAAAAAAACAa8AAAAAAAGBrwAAAAAAAQGvAAAAAAAAga8AAAAAAAABrwAAAAAAA4GrAAAAAAADAasAAAAAAAKBqwAAAAAAAgGrAAAAAAABgasAAAAAAAEBqwAAAAAAAIGrAAAAAAAAAasAAAAAAAOBpwAAAAAAAwGnAAAAAAACgacAAAAAAAIBpwAAAAAAAYGnAAAAAAABAacAAAAAAACBpwAAAAAAAAGnAAAAAAADgaMAAAAAAAMBowAAAAAAAoGjAAAAAAACAaMAAAAAAAGBowAAAAAAAQGjAAAAAAAAgaMAAAAAAAABowAAAAAAA4GfAAAAAAADAZ8AAAAAAAKBnwAAAAAAAgGfAAAAAAABgZ8AAAAAAAEBnwAAAAAAAIGfAAAAAAAAAZ8AAAAAAAOBmwAAAAAAAwGbAAAAAAACgZsAAAAAAAIBmwAAAAAAAYGbAAAAAAABAZsAAAAAAACBmwAAAAAAAAGbAAAAAAADgZcAAAAAAAMBlwAAAAAAAoGXAAAAAAACAZcAAAAAAAGBlwAAAAAAAQGXAAAAAAAAgZcAAAAAAAABlwAAAAAAA4GTAAAAAAADAZMAAAAAAAKBkwAAAAAAAgGTAAAAAAABgZMAAAAAAAEBkwAAAAAAAIGTAAAAAAAAAZMAAAAAAAOBjwAAAAAAAwGPAAAAAAACgY8AAAAAAAIBjwAAAAAAAYGPAAAAAAABAY8AAAAAAACBjwAAAAAAAAGPAAAAAAADgYsAAAAAAAMBiwAAAAAAAoGLAAAAAAACAYsAAAAAAAGBiwAAAAAAAQGLAAAAAAAAgYsAAAAAAAABiwAAAAAAA4GHAAAAAAADAYcAAAAAAAKBhwAAAAAAAgGHAAAAAAABgYcAAAAAAAEBhwAAAAAAAIGHAAAAAAAAAYcAAAAAAAOBgwAAAAAAAwGDAAAAAAACgYMAAAAAAAIBgwAAAAAAAYGDAAAAAAABAYMAAAAAAACBgwAAAAAAAAGDAAAAAAADAX8AAAAAAAIBfwAAAAAAAQF/AAAAAAAAAX8AAAAAAAMBewAAAAAAAgF7AAAAAAABAXsAAAAAAAABewAAAAAAAwF3AAAAAAACAXcAAAAAAAEBdwAAAAAAAAF3AAAAAAADAXMAAAAAAAIBcwAAAAAAAQFzAAAAAAAAAXMAAAAAAAMBbwAAAAAAAgFvAAAAAAABAW8AAAAAAAABbwAAAAAAAwFrAAAAAAACAWsAAAAAAAEBawAAAAAAAAFrAAAAAAADAWcAAAAAAAIBZwAAAAAAAQFnAAAAAAAAAWcA=\",\"dtype\":\"float64\",\"shape\":[151]},\"y\":{\"__ndarray__\":\"JfBv9PFitb5vpMUpJquzvrWBcADQabK+GOYFMo+osL5L75r6lECuvo5yPEOmT6q+M6yIqaRGpL5I9deK/G6evpy24MgIb5u+COdjbfnUg75kVk2cUuR5vr6wO6ckwXc+pU6hVqsgfz7+ek+aoapsPmYEFnxWUoc+SDLx6aS8kz6yIr3Gs+iWPnptVxf/GZc+CGXGnzI0mj6T7Taj5symPtjVeQfLC6s+wmwkJ9cksD5KcPCyvES0PnozIjnT2Lg+RBNdZMyMwD69HcUQ8NvDPlAw49RdhcY+GBNftsY7yj72Ixt+WqrPPlHkRQg+jdE+M4uQQV7v0z4FC/pyPVnWPrersUX1Etg+CC7y8xch3D6D4fZl5wrfPib3IfDBBeE+NmK9eLWW4j7q906ts8HkPvQk34CK3OU+0LGyvfmP5z7XAg5nViTqPmvO0xZdMuw+dQV0VZ6g7j7nx2yw8GLwPn/Ak4Iwe/E+GeaYaqKX8j5rOUZZBJrzPqalk/bqaPU+gs9mSGJ49j6/6VM0Hwj4PhbOYAqG1Pk+Uk+oKX4a+z6Mij9BvPD8PrM5zPddcv4+pRVVxTufAD9SYU3SYkABP0nhPmGBIQI/3EX3OINiAz9ivMQij2oEP3MMWdci6AU/Cs/Gmo/hBj9wJYO7eVYIP/znzcbhwwk/o5eGqU3pCj+vxTfC58MMP3Pkk3hMPQ4/0mCzbwuJDz9yrky/YcEQP1lBssKa5xE/hSkIz4J9Ej+fpQxdx38TP0Pz8lgQ2hQ/jLztgLK7FT/B4JmLDqkXP438ZlAgdBg/DdMsrqX1GT8vDzc2q10bPxGLP2LgZh0/CvUgt3kAHz/UURUg+IIgPzDnOlKbhiE/wIR5q4h8Ij/U/TRWaMUjP8Z+pWPt9yQ/ACw+w+zFJj9JmVt4GsQpP8hqq7zaVi4/1S0zU/dUMD9IW04mS70wPybPqabTWjI/sjeUBcOlOT94zJ2x2LM6P2lBhfKgSj0//41yth3vPj99iOxQhIVAP62eftUr00E/E9iIVmHJQj/HNBpKu8JDPxBr1PjKmUQ/rc4IM4gvRT/YaT3nou1FPxPImgl1tUY/APj2ml14Rz+dBRfvKz1IP3Tn/c++Ckk/DyNrqno7Sj+NF6Cn4HRLP3I/2loD/Uw/DieN6bIlTj+YRAPaWdlOP6S29ZhmCFA/Kp3dlNFMUD/d7IHpw5lQP0e5ELhpxFA/G1zxD4b6UD8006lqAylRPx5K4hzdV1E/msbdvS9wUT9ES1b5KYRRP5e5ndadiVE/S69gKhySUT/EibIuo5VRP/kRbhsOl1E/gFiKctaYUT8HvZf4LJpRP2ljxLzJmlE/YUtQQjebUT8usB1FA5xRP+FQjdEZnFE/OYyvYXmcUT9WejhEhpxRP03xPOG6nFE/o9nIt2+cUT8rhvLYq5xRP2rfxcPHnFE/b1yH6cmcUT8a5YL7TZ1RP/KL7+QDnVE/XUqQIzOdUT9TUA3YLp1RP1jNzv0wnVE/tBQry1mdUT8aVgrkhp1RPx/TywmJnVE/kqngwkqdUT+EoyM6fZ1RP3upoO54nVE/j3+1VvOdUT9pl6ko4p1RP7Hq/14CnlE/TBqoLg6eUT8=\",\"dtype\":\"float64\",\"shape\":[151]}}},\"id\":\"90e0e481-e11b-4a44-89af-4ae9b5a2515a\",\"type\":\"ColumnDataSource\"},{\"attributes\":{\"overlay\":{\"id\":\"ec1a3d40-7084-4ad6-972e-6c1dc85a66d0\",\"type\":\"BoxAnnotation\"},\"plot\":{\"id\":\"9b7b9458-d618-48da-824a-c15e40080aa8\",\"subtype\":\"Figure\",\"type\":\"Plot\"}},\"id\":\"f00ab1da-9512-41e1-82a5-ea8581d16637\",\"type\":\"BoxZoomTool\"},{\"attributes\":{},\"id\":\"3deeb849-12f1-4d9a-b29c-618b2ba4eeff\",\"type\":\"BasicTickFormatter\"},{\"attributes\":{\"axis_label\":\"Voltage (V)\",\"formatter\":{\"id\":\"14119640-0614-4995-9191-5b9e3b716f7d\",\"type\":\"BasicTickFormatter\"},\"plot\":{\"id\":\"9b7b9458-d618-48da-824a-c15e40080aa8\",\"subtype\":\"Figure\",\"type\":\"Plot\"},\"ticker\":{\"id\":\"c631f814-d5af-4466-8492-d2ae6b0b4b95\",\"type\":\"BasicTicker\"}},\"id\":\"1df1ffb0-4fdc-4e1e-b4ff-9bb2e1f72c18\",\"type\":\"LinearAxis\"},{\"attributes\":{\"plot\":{\"id\":\"9b7b9458-d618-48da-824a-c15e40080aa8\",\"subtype\":\"Figure\",\"type\":\"Plot\"},\"ticker\":{\"id\":\"c631f814-d5af-4466-8492-d2ae6b0b4b95\",\"type\":\"BasicTicker\"}},\"id\":\"b13fce48-0ad4-48d2-8670-922a02da6483\",\"type\":\"Grid\"},{\"attributes\":{},\"id\":\"c631f814-d5af-4466-8492-d2ae6b0b4b95\",\"type\":\"BasicTicker\"},{\"attributes\":{\"below\":[{\"id\":\"1df1ffb0-4fdc-4e1e-b4ff-9bb2e1f72c18\",\"type\":\"LinearAxis\"}],\"left\":[{\"id\":\"7f156ea1-cec3-4774-9e45-2708e3deded8\",\"type\":\"LinearAxis\"}],\"plot_width\":950,\"renderers\":[{\"id\":\"1df1ffb0-4fdc-4e1e-b4ff-9bb2e1f72c18\",\"type\":\"LinearAxis\"},{\"id\":\"b13fce48-0ad4-48d2-8670-922a02da6483\",\"type\":\"Grid\"},{\"id\":\"7f156ea1-cec3-4774-9e45-2708e3deded8\",\"type\":\"LinearAxis\"},{\"id\":\"6fa2ba03-952b-4ca6-929a-448c035ec6ed\",\"type\":\"Grid\"},{\"id\":\"ec1a3d40-7084-4ad6-972e-6c1dc85a66d0\",\"type\":\"BoxAnnotation\"},{\"id\":\"5e5525e7-2178-4b64-8816-164e4e64a7fa\",\"type\":\"GlyphRenderer\"}],\"title\":{\"id\":\"4e2ecd5c-8273-40c1-abfb-6c1f0418d673\",\"type\":\"Title\"},\"tool_events\":{\"id\":\"07c4dd75-342c-4c51-81c7-609c32e7d50e\",\"type\":\"ToolEvents\"},\"toolbar\":{\"id\":\"4e66961e-cf6a-414e-809f-743282fde319\",\"type\":\"Toolbar\"},\"x_range\":{\"id\":\"fad5faa4-3c7c-4b1b-ba59-42a7259548d8\",\"type\":\"DataRange1d\"},\"y_range\":{\"id\":\"167cbdaf-526d-4a1d-a2b6-3303236c68cf\",\"type\":\"DataRange1d\"}},\"id\":\"9b7b9458-d618-48da-824a-c15e40080aa8\",\"subtype\":\"Figure\",\"type\":\"Plot\"},{\"attributes\":{\"plot\":{\"id\":\"9b7b9458-d618-48da-824a-c15e40080aa8\",\"subtype\":\"Figure\",\"type\":\"Plot\"}},\"id\":\"2e19384e-7341-476f-b51e-a8968d3596f7\",\"type\":\"PanTool\"},{\"attributes\":{\"plot\":null,\"text\":\"Langmuir IV Curve\"},\"id\":\"4e2ecd5c-8273-40c1-abfb-6c1f0418d673\",\"type\":\"Title\"},{\"attributes\":{\"fill_alpha\":{\"value\":0.1},\"fill_color\":{\"value\":\"#1f77b4\"},\"line_alpha\":{\"value\":0.1},\"line_color\":{\"value\":\"#1f77b4\"},\"size\":{\"units\":\"screen\",\"value\":8},\"x\":{\"field\":\"x\"},\"y\":{\"field\":\"y\"}},\"id\":\"3b008a75-8ac0-44bb-8a78-2ac71d6b6fc0\",\"type\":\"Circle\"},{\"attributes\":{\"dimension\":1,\"plot\":{\"id\":\"9b7b9458-d618-48da-824a-c15e40080aa8\",\"subtype\":\"Figure\",\"type\":\"Plot\"},\"ticker\":{\"id\":\"117ee667-d33e-46bf-a23d-458e083da93d\",\"type\":\"BasicTicker\"}},\"id\":\"6fa2ba03-952b-4ca6-929a-448c035ec6ed\",\"type\":\"Grid\"},{\"attributes\":{\"axis_label\":\"Current (A)\",\"formatter\":{\"id\":\"3deeb849-12f1-4d9a-b29c-618b2ba4eeff\",\"type\":\"BasicTickFormatter\"},\"plot\":{\"id\":\"9b7b9458-d618-48da-824a-c15e40080aa8\",\"subtype\":\"Figure\",\"type\":\"Plot\"},\"ticker\":{\"id\":\"117ee667-d33e-46bf-a23d-458e083da93d\",\"type\":\"BasicTicker\"}},\"id\":\"7f156ea1-cec3-4774-9e45-2708e3deded8\",\"type\":\"LinearAxis\"},{\"attributes\":{\"callback\":null},\"id\":\"167cbdaf-526d-4a1d-a2b6-3303236c68cf\",\"type\":\"DataRange1d\"},{\"attributes\":{\"plot\":{\"id\":\"9b7b9458-d618-48da-824a-c15e40080aa8\",\"subtype\":\"Figure\",\"type\":\"Plot\"}},\"id\":\"5af5afd2-7cbd-4fe7-9d99-3386e58b54ff\",\"type\":\"ResetTool\"},{\"attributes\":{\"plot\":{\"id\":\"9b7b9458-d618-48da-824a-c15e40080aa8\",\"subtype\":\"Figure\",\"type\":\"Plot\"}},\"id\":\"fed600de-c3a0-4e09-8c7e-2880e9f3c348\",\"type\":\"WheelZoomTool\"},{\"attributes\":{\"fill_color\":{\"value\":\"white\"},\"line_color\":{\"value\":\"#1f77b4\"},\"size\":{\"units\":\"screen\",\"value\":8},\"x\":{\"field\":\"x\"},\"y\":{\"field\":\"y\"}},\"id\":\"4a76ed43-4076-4d91-82b1-72fb7089c85c\",\"type\":\"Circle\"},{\"attributes\":{\"active_drag\":\"auto\",\"active_scroll\":\"auto\",\"active_tap\":\"auto\",\"tools\":[{\"id\":\"2e19384e-7341-476f-b51e-a8968d3596f7\",\"type\":\"PanTool\"},{\"id\":\"fed600de-c3a0-4e09-8c7e-2880e9f3c348\",\"type\":\"WheelZoomTool\"},{\"id\":\"f00ab1da-9512-41e1-82a5-ea8581d16637\",\"type\":\"BoxZoomTool\"},{\"id\":\"55a2e0f5-59b8-42f8-8d6f-22d2193ee550\",\"type\":\"SaveTool\"},{\"id\":\"5af5afd2-7cbd-4fe7-9d99-3386e58b54ff\",\"type\":\"ResetTool\"},{\"id\":\"04481ab3-95b4-40dd-96f6-0b4b8fdc2190\",\"type\":\"HelpTool\"}]},\"id\":\"4e66961e-cf6a-414e-809f-743282fde319\",\"type\":\"Toolbar\"},{\"attributes\":{\"plot\":{\"id\":\"9b7b9458-d618-48da-824a-c15e40080aa8\",\"subtype\":\"Figure\",\"type\":\"Plot\"}},\"id\":\"55a2e0f5-59b8-42f8-8d6f-22d2193ee550\",\"type\":\"SaveTool\"},{\"attributes\":{\"callback\":null},\"id\":\"fad5faa4-3c7c-4b1b-ba59-42a7259548d8\",\"type\":\"DataRange1d\"},{\"attributes\":{\"bottom_units\":\"screen\",\"fill_alpha\":{\"value\":0.5},\"fill_color\":{\"value\":\"lightgrey\"},\"left_units\":\"screen\",\"level\":\"overlay\",\"line_alpha\":{\"value\":1.0},\"line_color\":{\"value\":\"black\"},\"line_dash\":[4,4],\"line_width\":{\"value\":2},\"plot\":null,\"render_mode\":\"css\",\"right_units\":\"screen\",\"top_units\":\"screen\"},\"id\":\"ec1a3d40-7084-4ad6-972e-6c1dc85a66d0\",\"type\":\"BoxAnnotation\"},{\"attributes\":{},\"id\":\"07c4dd75-342c-4c51-81c7-609c32e7d50e\",\"type\":\"ToolEvents\"},{\"attributes\":{},\"id\":\"117ee667-d33e-46bf-a23d-458e083da93d\",\"type\":\"BasicTicker\"},{\"attributes\":{\"data_source\":{\"id\":\"90e0e481-e11b-4a44-89af-4ae9b5a2515a\",\"type\":\"ColumnDataSource\"},\"glyph\":{\"id\":\"4a76ed43-4076-4d91-82b1-72fb7089c85c\",\"type\":\"Circle\"},\"hover_glyph\":null,\"nonselection_glyph\":{\"id\":\"3b008a75-8ac0-44bb-8a78-2ac71d6b6fc0\",\"type\":\"Circle\"},\"selection_glyph\":null},\"id\":\"5e5525e7-2178-4b64-8816-164e4e64a7fa\",\"type\":\"GlyphRenderer\"},{\"attributes\":{},\"id\":\"14119640-0614-4995-9191-5b9e3b716f7d\",\"type\":\"BasicTickFormatter\"}],\"root_ids\":[\"9b7b9458-d618-48da-824a-c15e40080aa8\"]},\"title\":\"Bokeh Application\",\"version\":\"0.12.4\"}};\n",
       "            var render_items = [{\"docid\":\"cd1f71ff-fb8b-4edb-be84-c8ec5c2f984a\",\"elementid\":\"4c09bb0e-5071-4dfd-98a5-cd0fba716b05\",\"modelid\":\"9b7b9458-d618-48da-824a-c15e40080aa8\"}];\n",
       "            \n",
       "            Bokeh.embed.embed_items(docs_json, render_items);\n",
       "          };\n",
       "          if (document.readyState != \"loading\") fn();\n",
       "          else document.addEventListener(\"DOMContentLoaded\", fn);\n",
       "        })();\n",
       "      },\n",
       "      function(Bokeh) {\n",
       "      }\n",
       "    ];\n",
       "  \n",
       "    function run_inline_js() {\n",
       "      \n",
       "      if ((window.Bokeh !== undefined) || (force === true)) {\n",
       "        for (var i = 0; i < inline_js.length; i++) {\n",
       "          inline_js[i](window.Bokeh);\n",
       "        }if (force === true) {\n",
       "          display_loaded();\n",
       "        }} else if (Date.now() < window._bokeh_timeout) {\n",
       "        setTimeout(run_inline_js, 100);\n",
       "      } else if (!window._bokeh_failed_load) {\n",
       "        console.log(\"Bokeh: BokehJS failed to load within specified timeout.\");\n",
       "        window._bokeh_failed_load = true;\n",
       "      } else if (force !== true) {\n",
       "        var cell = $(document.getElementById(\"4c09bb0e-5071-4dfd-98a5-cd0fba716b05\")).parents('.cell').data().cell;\n",
       "        cell.output_area.append_execute_result(NB_LOAD_WARNING)\n",
       "      }\n",
       "  \n",
       "    }\n",
       "  \n",
       "    if (window._bokeh_is_loading === 0) {\n",
       "      console.log(\"Bokeh: BokehJS loaded, going straight to plotting\");\n",
       "      run_inline_js();\n",
       "    } else {\n",
       "      load_libs(js_urls, function() {\n",
       "        console.log(\"Bokeh: BokehJS plotting callback run at\", now());\n",
       "        run_inline_js();\n",
       "      });\n",
       "    }\n",
       "  }(this));\n",
       "</script>"
      ]
     },
     "metadata": {},
     "output_type": "display_data"
    }
   ],
   "source": [
    "# DO NOT EDIT THIS CELL\n",
    "\n",
    "# Specifying that we want the plot to be displayed within the notebook\n",
    "output_notebook(hide_banner=True)\n",
    "\n",
    "# create a new plot with a title and axis labels\n",
    "p = figure(title=\"Langmuir IV Curve\", x_axis_label='Voltage (V)', y_axis_label='Current (A)', plot_width=950, plot_height=600)\n",
    "\n",
    "# specify the data to plot and define the line type - here we will use a circle for the data points\n",
    "p.circle(data[:,0], data[:,1], fill_color=\"white\", size=8)\n",
    "\n",
    "# show the results\n",
    "show(p)"
   ]
  },
  {
   "cell_type": "markdown",
   "metadata": {},
   "source": [
    "## Saving your data\n",
    "\n",
    "Specify the filename for saving your data below. At this time the following cell **WILL OVERWRITE** any file that has the \n",
    "same name, so be sure to change the \"FILENAME\" before executing this cell if this is not desired."
   ]
  },
  {
   "cell_type": "code",
   "execution_count": 23,
   "metadata": {},
   "outputs": [],
   "source": [
    "np.savetxt('RPT352mtorr1_0kV2_89mAc.csv', data,\n",
    "                      fmt='%.18e',\n",
    "                      delimiter=',',\n",
    "                      newline='\\n',\n",
    "                      header='',\n",
    "                      footer='',\n",
    "                      comments='# ')"
   ]
  }
 ],
 "metadata": {
  "anaconda-cloud": {},
  "kernelspec": {
   "display_name": "Python 3",
   "language": "python",
   "name": "python3"
  },
  "language_info": {
   "codemirror_mode": {
    "name": "ipython",
    "version": 3
   },
   "file_extension": ".py",
   "mimetype": "text/x-python",
   "name": "python",
   "nbconvert_exporter": "python",
   "pygments_lexer": "ipython3",
   "version": "3.8.8"
  }
 },
 "nbformat": 4,
 "nbformat_minor": 1
}
