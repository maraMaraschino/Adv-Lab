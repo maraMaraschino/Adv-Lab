{
 "cells": [
  {
   "cell_type": "code",
   "execution_count": 16,
   "metadata": {},
   "outputs": [
    {
     "data": {
      "image/png": "[encoded data removed]",
      "text/plain": [
       "<Figure size 640x480 with 1 Axes>"
      ]
     },
     "metadata": {},
     "output_type": "display_data"
    }
   ],
   "source": [
    "# Load data in dfs\n",
    "import pandas as pd\n",
    "import matplotlib.pyplot as plt\n",
    "import numpy as np\n",
    "import math\n",
    "\n",
    "df_1 = pd.read_csv(\"EDPH20250207_115551.csv\", header=0, \n",
    "                   names=[\"time\", \"angle\", \"volume\", \"pressure\",\"temp1\", \"temp2\"])\n",
    "\n",
    "time = df_1[\"time\"] # ms\n",
    "radians = df_1[\"angle\"]\n",
    "volume = df_1[\"volume\"]\n",
    "pressure = df_1[\"pressure\"] # kPa\n",
    "temp1 = df_1[\"temp1\"] # C\n",
    "temp2 = df_1[\"temp2\"] # C\n",
    "\n",
    "plt.scatter(volume, pressure, s=1)\n",
    "plt.xlabel(\"Volume\")\n",
    "plt.ylabel(\"Pressure (kPa)\")\n",
    "plt.show()"
   ]
  },
  {
   "cell_type": "code",
   "execution_count": 29,
   "metadata": {},
   "outputs": [
    {
     "name": "stdout",
     "output_type": "stream",
     "text": [
      "Max pressure: 97663.57 Pa, Volume: 2.99e-02\n",
      "Temp1: 454.90 K, n1: 0.77\n",
      "Temp2: 313.40 K, n2: 1.12\n",
      "Min pressure: 67622.07 Pa, Volume: 4.09e-02\n",
      "Temp1: 455.40 K, n1: 0.73\n",
      "Temp2: 313.15 K, n2: 1.06\n",
      "\n",
      "Average n value: 0.92\n"
     ]
    }
   ],
   "source": [
    "R = 8.314\n",
    "\n",
    "# kPa -> Pa\n",
    "max_pressure = max(pressure) * 1000\n",
    "min_pressure = min(pressure) * 1000\n",
    "\n",
    "max_index = pressure.idxmax()\n",
    "min_index = pressure.idxmin()\n",
    "\n",
    "# Assuming original value in cm^3\n",
    "vol_at_max_pressure = volume.loc[max_index] / 1000\n",
    "vol_at_min_pressure = volume.loc[min_index] / 1000\n",
    "\n",
    "# C -> K\n",
    "temp1_at_max_pressure = temp1.loc[max_index] + 273.15\n",
    "temp1_at_min_pressure = temp1.loc[min_index] + 273.15\n",
    "\n",
    "n1_max = (max_pressure * vol_at_max_pressure) / (R * temp1_at_max_pressure)\n",
    "n1_min = (min_pressure * vol_at_min_pressure) / (R * temp1_at_min_pressure)\n",
    "\n",
    "temp2_at_max_pressure = temp2.loc[max_index] + 273.15\n",
    "temp2_at_min_pressure = temp2.loc[min_index] + 273.15\n",
    "\n",
    "n2_max = (max_pressure * vol_at_max_pressure) / (R * temp2_at_max_pressure)\n",
    "n2_min = (min_pressure * vol_at_min_pressure) / (R * temp2_at_min_pressure)\n",
    "\n",
    "avg_n = (n1_max + n1_min + n2_max + n2_min)/4\n",
    "\n",
    "print(f'Max pressure: {max_pressure:.2f} Pa, Volume: {vol_at_max_pressure:.2e}')\n",
    "print(f\"Temp1: {temp1_at_max_pressure:.2f} K, n1: {n1_max:.2f}\")\n",
    "print(f\"Temp2: {temp2_at_max_pressure:.2f} K, n2: {n2_max:.2f}\")\n",
    "print(f'Min pressure: {min_pressure:.2f} Pa, Volume: {vol_at_min_pressure:.2e}')\n",
    "print(f\"Temp1: {temp1_at_min_pressure:.2f} K, n1: {n1_min:.2f}\")\n",
    "print(f\"Temp2: {temp2_at_min_pressure:.2f} K, n2: {n2_min:.2f}\")\n",
    "print(f\"\\nAverage n value: {avg_n:.2f}\")"
   ]
  }
 ],
 "metadata": {
  "kernelspec": {
   "display_name": "Python 3",
   "language": "python",
   "name": "python3"
  },
  "language_info": {
   "codemirror_mode": {
    "name": "ipython",
    "version": 3
   },
   "file_extension": ".py",
   "mimetype": "text/x-python",
   "name": "python",
   "nbconvert_exporter": "python",
   "pygments_lexer": "ipython3",
   "version": "3.11.9"
  }
 },
 "nbformat": 4,
 "nbformat_minor": 2
}
