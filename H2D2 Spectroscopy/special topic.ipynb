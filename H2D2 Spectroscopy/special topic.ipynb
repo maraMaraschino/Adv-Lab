{
 "cells": [
  {
   "cell_type": "markdown",
   "id": "7abc46a3",
   "metadata": {},
   "source": [
    "As deuterium has a lower zero-point energy than hydrogen, it should be possible to calculate the chemical potential energy of reactions that use hydrogen and compare them to their deuterated counterparts to show that deuterium should be the favored species when forming new chemicals. As the paper by TJ Millar (2005) notes a significant enhancement ($10^{11}$) of deuterated ammonia, the reaction I'll do the calculation for is of the amino radical $NH_2$ with H to form ammonia, $NH_3$.\n",
    "\n",
    "So, we will be comparing the Gibbs free energies of:\n",
    "\n",
    "| Hydrogenated Reaction | Deuterated Analog   |\n",
    "| --------------------- | ------------------- |\n",
    "| $NH_2 + H \\to NH_3$   | $ND_2 + D \\to ND_3$ |\n",
    "\n",
    "In order to complete this calculation, it will be necessary to gather the enthalpies of formation, $H_f^\\circ$, and the standard Entropies of each species to then use the formula for Gibbs free energy:\n",
    "\n",
    "$$\\Delta G = \\Delta H - T \\Delta S$$\n",
    "\n",
    "This can be done using the NIST Chemistry WebBook, which provides the gas phase thermochemistry data for each of these species. The results are as follows:\n",
    "\n",
    "| Species | Quantity                 | Value  | Units   | Deuterated Species | Quantity                  | Value  | Units   |\n",
    "| :-----: | ------------------------ | ------ | ------  |:------------------:| ------------------------- | ------ | ------  |\n",
    "| $NH_2$  | $\\Delta_f H^\\circ_{gas}$ | 190.37 | kJ/mol  | $ND_2$             | $\\Delta_f H^\\circ_{gas}$  | 185.35 | kJ/mol  |\n",
    "| $NH_2$  | $S^\\circ_{gas,1 bar}$    | 194.71 | J/mol*K | $ND_2$             | $S^\\circ_{gas,1 bar}$     | 204.30 | J/mol*K |\n",
    "| H       | $\\Delta_f H^\\circ_{gas}$ | 218.00 | kJ/mol  | D                  | $\\Delta_f H^\\circ_{gas}$  | 221.72 | kJ/mol  |\n",
    "| H       | $S^\\circ_{gas,1 bar}$    | 114.72 | J/mol*K | D                  | $S^\\circ_{gas,1 bar}$     | 123.35 | J/mol*K |\n",
    "| $NH_3$  | $\\Delta_f H^\\circ_{gas}$ | -45.90 | kJ/mol  | $ND_3$             | $\\Delta_f H^\\circ_{gas}$  | -58.58 | kJ/mol  |\n",
    "| $NH_3$  | $S^\\circ_{gas,1 bar}$    | 192.77 | J/mol*K | $ND_3$             | $S^\\circ_{gas,1 bar}$     | 203.93 | J/mol*K |\n",
    "\n",
    "Now, we simply have to compute $\\Delta H$ and $\\Delta S$ as:\n",
    "$$\\Delta H = H^\\circ _f(products) - H^\\circ _f(reactants)$$\n",
    "$$\\Delta S = S^\\circ (products) - S^\\circ (reactants)$$\n",
    "Before setting the temperature of the reaction as 10 K to give $T\\Delta S$."
   ]
  },
  {
   "cell_type": "code",
   "execution_count": 17,
   "id": "8cee8505",
   "metadata": {},
   "outputs": [
    {
     "name": "stdout",
     "output_type": "stream",
     "text": [
      "Change in enthalpy (Hydrogen): -454.27\n",
      "Change in entropy  (Hydrogen): -0.12\n",
      "Change in Gibbs    (Hydrogen): -453.10\n",
      "\n",
      "Change in enthalpy (Deuterium): -465.65\n",
      "Change in entropy  (Deuterium): -0.12\n",
      "Change in Gibbs    (Deuterium): -464.41\n"
     ]
    }
   ],
   "source": [
    "T = 10\n",
    "\n",
    "enthalpy_NH2 = 190.37\n",
    "enthalpy_H   = 218\n",
    "enthalpy_NH3 = -45.9\n",
    "\n",
    "# Converting from J/mol * K to kJ/mol*K\n",
    "entropy_NH2 = 194.71 / 1000\n",
    "entropy_H   = 114.72 / 1000\n",
    "entropy_NH3 = 192.77 / 1000\n",
    "\n",
    "\n",
    "hydrogen_dH = enthalpy_NH3 - (enthalpy_NH2 + enthalpy_H)\n",
    "hydrogen_dS = entropy_NH3 - (entropy_NH2 + entropy_H)\n",
    "hydrogen_dG = hydrogen_dH - (T * hydrogen_dS)\n",
    "print(f'Change in enthalpy (Hydrogen): {hydrogen_dH:.2f}')\n",
    "print(f'Change in entropy  (Hydrogen): {hydrogen_dS:.2f}')\n",
    "print(f'Change in Gibbs    (Hydrogen): {hydrogen_dG:.2f}\\n')\n",
    "\n",
    "enthalpy_ND2 = 185.35\n",
    "enthalpy_D   = 221.72\n",
    "enthalpy_ND3 = -58.58\n",
    "\n",
    "# Converting from J/mol * K to kJ/mol*K\n",
    "entropy_ND2 = 204.30 / 1000\n",
    "entropy_D   = 123.35 / 1000\n",
    "entropy_ND3 = 203.93 / 1000\n",
    "\n",
    "\n",
    "deuterium_dH = enthalpy_ND3 - (enthalpy_ND2 + enthalpy_D)\n",
    "deuterium_dS = entropy_ND3 - (entropy_ND2 + entropy_D)\n",
    "deuterium_dG = deuterium_dH - (T * deuterium_dS)\n",
    "print(f'Change in enthalpy (Deuterium): {deuterium_dH:.2f}')\n",
    "print(f'Change in entropy  (Deuterium): {deuterium_dS:.2f}')\n",
    "print(f'Change in Gibbs    (Deuterium): {deuterium_dG:.2f}')"
   ]
  },
  {
   "cell_type": "markdown",
   "id": "2d27a096",
   "metadata": {},
   "source": [
    "The reaction with the more negative $\\Delta G$ is the more thermodynamically favored. In this reaction, the species which have deuterium instead of hydrogen results in a slightly more favored chemical potential difference, showing that deuterium is likely to be favored in reactions when present."
   ]
  },
  {
   "cell_type": "markdown",
   "id": "7e24d45b",
   "metadata": {},
   "source": [
    "# References\n",
    "1. Millar, T. J. (2005). Deuterium in interstellar clouds. Astronomy & Geophysics : The Journal of the Royal Astronomical Society, 46(2), 2.29-2.32. https://doi.org/10.1111/j.1468-4004.2005.46229.x"
   ]
  },
  {
   "cell_type": "markdown",
   "id": "fd307eb7",
   "metadata": {},
   "source": []
  }
 ],
 "metadata": {
  "kernelspec": {
   "display_name": "Python 3",
   "language": "python",
   "name": "python3"
  },
  "language_info": {
   "codemirror_mode": {
    "name": "ipython",
    "version": 3
   },
   "file_extension": ".py",
   "mimetype": "text/x-python",
   "name": "python",
   "nbconvert_exporter": "python",
   "pygments_lexer": "ipython3",
   "version": "3.11.9"
  }
 },
 "nbformat": 4,
 "nbformat_minor": 5
}
