{
 "cells": [
  {
   "cell_type": "markdown",
   "id": "3ee77d7f",
   "metadata": {},
   "source": [
    "# Data collection\n",
    "\n",
    "Our first step in this experiment was to set up the Keithley 2450 SMU. The following is a figure which shows the positioning of tabs across our CMP-102 sample so as to help visualize where our readings were taken from.\n",
    "\n",
    "![figure](images/semiconductor_diagram.png)\n",
    "\n",
    "1. The sourcing leads were connected to the P and S tabs in order to generate a current across the length of the chip. After ensuring that only those tabs were connected to the SMU, it was powered on so that it could be correctly configured for our data taking steps.\n",
    "\n",
    "2. The \"function\" button lead us to the \"Sourcing Current and Measure\" setting, where we selected \"Voltage\".\n",
    "\n",
    "3. We then pressed the \"Menu\" button on the front panel of the SMU. Under \"Measure\" we then selected \"Settings\", ensuring that the setting was \"4-wire\". We then pressed the \"Home\" button on the front panel, followed by the \"Menu\" button.\n",
    "\n",
    "4. Under \"Measure\" we then selected \"Reading Buffers\", naming our buffer. For naming our buffers, we chose to follow the format \"B[]R[]RUN[].csv\". The \"B\" referred to our Black lead wire, and \"R\" to our Red lead wire, while the brackets would be replaced by the corresponding letter that the lead wire was attached to, and then the run number on which we were currently on. For instance, our first run connected the black wire to the b port, and the red wire to our c port, so it was named \"BbRcRUN1.csv\"\n",
    "\n",
    "5. We then selected the \"Make Active\" button so that our data would be stored under this name.\n",
    "\n",
    "6. From there, we pressed the \"Menu\" button once more on the front panel, and then selected \"Source\" and then \"Sweep\" to set our parameters as following:\n",
    "\n",
    "* Start: 0 $\\mu$ A\n",
    "* Stop: 500 $\\mu$ A\n",
    "* Step: 10 $\\mu$ A\n",
    "* Source Delay: 0.1s\n",
    "* Source Limit: 2V\n",
    "\n",
    "7. We then selected \"Generate,\" and pressed the \"Home\" button once again on the front panel.\n",
    "\n",
    "We then ensured that our wires were connected appropriately - first parallel to the direction of current - before starting our sweeps using the provided code. Steps 4 through 7 were repeated a total of 12 times as we measured and saved different combinations of connectors.\n",
    "\n",
    "A provided USB drive was then connected to the SMU and the data copied onto it before being deleted from the SMU. This step was taken every 3 runs as the SMU is prone to error if too many runs were saved to it at a time."
   ]
  },
  {
   "cell_type": "markdown",
   "id": "df399ba5",
   "metadata": {},
   "source": [
    "# Data analysis\n",
    "\n",
    "After collecting all of our relevent data, it was uploaded to our personal machines to begin our analysis. The first step was to create a set of functions which could be used to load the data, plot it, and calculate the resistance as the slope of the generated plot along with uncertainty. We realized after taking our data that much of it ended up not being useful for our purposes of calculating the resistance. It was only necessary to measure either parallel to the direction of the current (so from A to D, B to C, or Q to R) or perpendicular to the direction of the current (from Q to B or R to C). We should have instead performed multiple runs along these connectors to shrink our margins of error. Instead, we also measured from Q to C and R to B, which gave us irrelevant data.\n",
    "\n",
    "The following are the generated plots of the characteristic I-V plots without a magnetic field present:\n",
    "\n",
    "![b-to-c](images/B-to-C.png)\n",
    "![q-to-r](images/Q-to-R.png)"
   ]
  },
  {
   "cell_type": "markdown",
   "id": "220049ff",
   "metadata": {},
   "source": [
    "The calculated values for the resistance and the margins of error were then averaged, resulting in a value of 174.256 $\\Omega$ $\\pm$ 0.014 $\\Omega$\n",
    "\n",
    "This value was then used in order to calculate the chip's resistivity using the formula $\\rho = \\frac{wt}{l}R$\n",
    "\n",
    "We had neglected in our data collection step to measure the actual dimensions of the chip, so we estimated the values for w and l (width and length) to be 8mm and 2mm respectively. The thickness was provided as 500 $\\mu$ m. We had also neglected in our data collection step to measure across the A and D tabs.\n",
    "\n",
    "We then estimated that the distances across the B $\\to$ C tabs and the Q $\\to$ R tabs was roughly one third the length of the chip, or around 2mm, giving us our final calculation of $\\rho$ to be 1.162 $\\times 10^{-3} \\space \\Omega \\cdot m \\pm 1.9 \\times 10^{-7} \\space \\Omega \\cdot m$"
   ]
  },
  {
   "cell_type": "markdown",
   "id": "7cd7b8e1",
   "metadata": {},
   "source": [
    "After performing these steps, we then repeated our calculation of resistance from the tabs which were perpendicular to the current in the presence of a magnetic field (the Q $\\to$ B and R $\\to$ C measurements). The following are the resulting plots:\n",
    "\n",
    "![q-to-b](images/Q-to-b_magnet.png)\n",
    "![r-to-c](images/R-to-C_magnet.png)\n",
    "\n",
    "For some reason, our Q $\\to$ B measurement did not result in a linear plot. We expect that this may have been a result of poorly connected leads. As a result, we decided to leave that plot out of our analysis. Our calculated hall resistance is thus equal to only our R $\\to$ C plot, giving us a value of $0.378 \\Omega \\pm 0.006 \\Omega$\n",
    "\n",
    "From here, we were then able to estimate the charge carrier density using the formula:\n",
    "$$R_H = \\frac{B}{net}$$\n",
    "Where n is the charge carrier density, B is the strength of the magnetic field (which we measured using a magnetometer as $0.09 T \\pm 0.003 T$), e is the fundamental charge of the electron ($1.602 \\times 10^{-19} C$), and t is once again the thickness of our chip. We then rearranged this function to solve for n and also found the equation for n's margin of error, giving us the functions:\n",
    "$$n = \\frac{B}{etR_H}$$\n",
    "$$\\sigma_n = \\sqrt{(\\frac{1}{etR_H})^2 \\sigma^2_B + (- \\frac{B}{etR^2_H})^2 \\sigma^2_{R_H}}$$\n",
    "We then converted our unit of thickness to cm, and corrected $\\Omega$ which uses the units $kg \\cdot m^2 s^{-3} \\cdot A^{-2}$ to instead use $cm^2$ by multiplying it by 10000 ($1m = 100cm \\to 1m^2 = 100cm^2$) giving us:\n",
    "$$n = \\frac{0.09}{(1.602 \\cdot 10^{-19} C) \\times (5 \\cdot 10^{-7} cm) \\times (3780 \\Omega)}=2.97 \\cdot 10^{20} \\pm 1.08 \\cdot 10^{19}$$"
   ]
  },
  {
   "cell_type": "markdown",
   "id": "00f1d8bf",
   "metadata": {},
   "source": [
    "From here, we found a value for the intirinsic carrier density, $n_i$ of silicon as $1.45 \\times 10^{10} cm^{-3} \\pm 4.35 \\times 10^8 cm^{-3}$ (Sproul, Green, Zhao, 1990). We used this value along with our calculation of the carrier density to estimate the number of positive charge carriers, p (holes), per $cm^3$ using the law of mass action:\n",
    "$$n \\cdot p = n_i^2$$\n",
    "$$\\sigma_p = \\sqrt{(2\\frac{n_i}{n})^2 \\sigma_{n_i}^2 + (-\\frac{n_i^2}{n^2})^2 \\sigma_n^2}$$\n",
    "Finding $p = 0.7071 cm^{-3} \\pm 0.0496 cm^{-3}$. This value allowed us to estimate that our sample is like P-doped, n-type silicon, as n >> $n_i$ >> p"
   ]
  }
 ],
 "metadata": {
  "language_info": {
   "name": "python"
  }
 },
 "nbformat": 4,
 "nbformat_minor": 5
}
