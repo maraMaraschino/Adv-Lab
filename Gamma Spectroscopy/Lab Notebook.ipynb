{
 "cells": [
  {
   "cell_type": "markdown",
   "metadata": {},
   "source": [
    "# Gathering Data\n",
    "\n",
    "We started by using known sources which emmit gamma rays at known energy levels which span the energy levels of the unknown source.\n",
    "\n",
    "## Software Settings\n",
    "\n",
    "Using the scintillator and photomultiplier tube devices, we are able to gather data through the provided USX software. After opening the software, we changed the settings to match those below:\n",
    "\n",
    "**Acquisition Mode: PHA Pre-Amp\n",
    "High Voltage: 700\n",
    "Conversion Gain: 2048\n",
    "Coarse Gain: 2\n",
    "Fine Gain: 1.09\n",
    "Upper Discriminator: 2096\n",
    "Lower Discriminator: 27**\n",
    "\n",
    "We then placed the radiation sources in the slots beneath the scintillator and started a run. After approximately 5 minutes, the data was fully collected and visible peaks emerged. We stopped the run and saved the data to a .csv file which was named to match the source (Co60 01.csv for Cobalt-60, our first test). \n",
    "\n",
    "# Data analsysis:\n",
    "\n",
    "We loaded all of the data into jupyter notebook and began inspecting it to determine the best ways to use the data. The first 21 rows contained metadata, and only the first and third columns of the data contained any values. We captured the relevant data using the commands:"
   ]
  },
  {
   "cell_type": "code",
   "execution_count": 3,
   "metadata": {},
   "outputs": [],
   "source": [
    "import pandas as pd\n",
    "cobalt = pd.read_csv(\"CalCo60 01Ga.csv\", skiprows = 21, usecols = [0, 2])"
   ]
  },
  {
   "cell_type": "markdown",
   "metadata": {},
   "source": [
    "Before then plotting the data for visualization."
   ]
  }
 ],
 "metadata": {
  "kernelspec": {
   "display_name": "Python 3",
   "language": "python",
   "name": "python3"
  },
  "language_info": {
   "codemirror_mode": {
    "name": "ipython",
    "version": 3
   },
   "file_extension": ".py",
   "mimetype": "text/x-python",
   "name": "python",
   "nbconvert_exporter": "python",
   "pygments_lexer": "ipython3",
   "version": "3.7.3"
  }
 },
 "nbformat": 4,
 "nbformat_minor": 2
}
